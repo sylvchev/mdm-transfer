{
 "cells": [
  {
   "cell_type": "code",
   "execution_count": 1,
   "metadata": {},
   "outputs": [],
   "source": [
    "from sklearn.decomposition import PCA\n",
    "from sklearn.model_selection import LeaveOneOut, cross_val_score, ShuffleSplit, train_test_split\n",
    "from sklearn.model_selection import StratifiedShuffleSplit, StratifiedKFold\n",
    "from sklearn.linear_model import LogisticRegression\n",
    "from sklearn.metrics import accuracy_score\n",
    "from sklearn.discriminant_analysis import LinearDiscriminantAnalysis as LDA\n",
    "from sklearn.pipeline import make_pipeline\n",
    "import sklearn\n",
    "\n",
    "import numpy as np\n",
    "import copy\n",
    "from MDWM import MDWM\n",
    "\n",
    "from pyriemann.classification import MDM, TSclassifier, KNearestNeighbor, FgMDM\n",
    "from pyriemann.utils.mean import mean_covariance\n",
    "from pyriemann.estimation import Covariances,XdawnCovariances\n",
    "from pyriemann.tangentspace import TangentSpace\n",
    "from pyriemann.classification import MDM\n",
    "\n",
    "from moabb.paradigms import SSVEP, FilterBankSSVEP\n",
    "from moabb.evaluations import WithinSessionEvaluation\n",
    "from moabb.datasets import SSVEPExo\n",
    "from moabb.pipelines import ExtendedSSVEPSignal\n",
    "\n",
    "from mne.decoding import CSP\n",
    "\n",
    "import pandas as pd\n",
    "import matplotlib.pyplot as plt\n",
    "import seaborn as sns"
   ]
  },
  {
   "cell_type": "code",
   "execution_count": 2,
   "metadata": {},
   "outputs": [],
   "source": [
    "dataset = SSVEPExo()"
   ]
  },
  {
   "cell_type": "code",
   "execution_count": 3,
   "metadata": {},
   "outputs": [
    {
     "name": "stderr",
     "output_type": "stream",
     "text": [
      "Choosing the first 4 classes from all possible events\n"
     ]
    }
   ],
   "source": [
    "paradigm = FilterBankSSVEP(filters=None, n_classes=4)"
   ]
  },
  {
   "cell_type": "code",
   "execution_count": 4,
   "metadata": {},
   "outputs": [
    {
     "name": "stderr",
     "output_type": "stream",
     "text": [
      "/home/sylchev/src/github/moabb/moabb/datasets/download.py:53: RuntimeWarning: Setting non-standard config type: \"MNE_DATASETS_SSVEPEXO_PATH\"\n",
      "  set_config(key, osp.join(osp.expanduser(\"~\"), \"mne_data\"))\n"
     ]
    },
    {
     "name": "stdout",
     "output_type": "stream",
     "text": [
      "Target subject 1, training on [2, 3, 4, 5, 6, 7, 8, 9, 10, 11, 12]\n",
      "- L=0.1, ns=1 : computing accuracy on 4 bootstrap\n",
      "- L=0.1, ns=4 : computing accuracy on 4 bootstrap\n",
      "- L=0.1, ns=7 : computing accuracy on 4 bootstrap\n",
      "- L=0.5, ns=1 : computing accuracy on 4 bootstrap\n",
      "- L=0.5, ns=4 : computing accuracy on 4 bootstrap\n",
      "- L=0.5, ns=7 : computing accuracy on 4 bootstrap\n",
      "- L=0.9, ns=1 : computing accuracy on 4 bootstrap\n",
      "- L=0.9, ns=4 : computing accuracy on 4 bootstrap\n",
      "- L=0.9, ns=7 : computing accuracy on 4 bootstrap\n",
      "Target subject 2, training on [1, 3, 4, 5, 6, 7, 8, 9, 10, 11, 12]\n",
      "- L=0.1, ns=1 : computing accuracy on 4 bootstrap\n",
      "- L=0.1, ns=4 : computing accuracy on 4 bootstrap\n",
      "- L=0.1, ns=7 : computing accuracy on 4 bootstrap\n",
      "- L=0.5, ns=1 : computing accuracy on 4 bootstrap\n",
      "- L=0.5, ns=4 : computing accuracy on 4 bootstrap\n",
      "- L=0.5, ns=7 : computing accuracy on 4 bootstrap\n",
      "- L=0.9, ns=1 : computing accuracy on 4 bootstrap\n",
      "- L=0.9, ns=4 : computing accuracy on 4 bootstrap\n",
      "- L=0.9, ns=7 : computing accuracy on 4 bootstrap\n",
      "Target subject 3, training on [1, 2, 4, 5, 6, 7, 8, 9, 10, 11, 12]\n",
      "- L=0.1, ns=1 : computing accuracy on 4 bootstrap\n",
      "- L=0.1, ns=4 : computing accuracy on 4 bootstrap\n",
      "- L=0.1, ns=7 : computing accuracy on 4 bootstrap\n",
      "- L=0.5, ns=1 : computing accuracy on 4 bootstrap\n",
      "- L=0.5, ns=4 : computing accuracy on 4 bootstrap\n",
      "- L=0.5, ns=7 : computing accuracy on 4 bootstrap\n",
      "- L=0.9, ns=1 : computing accuracy on 4 bootstrap\n",
      "- L=0.9, ns=4 : computing accuracy on 4 bootstrap\n",
      "- L=0.9, ns=7 : computing accuracy on 4 bootstrap\n",
      "Target subject 4, training on [1, 2, 3, 5, 6, 7, 8, 9, 10, 11, 12]\n",
      "- L=0.1, ns=1 : computing accuracy on 4 bootstrap\n",
      "- L=0.1, ns=4 : computing accuracy on 4 bootstrap\n",
      "- L=0.1, ns=7 : computing accuracy on 4 bootstrap\n",
      "- L=0.5, ns=1 : computing accuracy on 4 bootstrap\n",
      "- L=0.5, ns=4 : computing accuracy on 4 bootstrap\n",
      "- L=0.5, ns=7 : computing accuracy on 4 bootstrap\n",
      "- L=0.9, ns=1 : computing accuracy on 4 bootstrap\n",
      "- L=0.9, ns=4 : computing accuracy on 4 bootstrap\n",
      "- L=0.9, ns=7 : computing accuracy on 4 bootstrap\n",
      "Target subject 5, training on [1, 2, 3, 4, 6, 7, 8, 9, 10, 11, 12]\n",
      "- L=0.1, ns=1 : computing accuracy on 4 bootstrap\n",
      "- L=0.1, ns=4 : computing accuracy on 4 bootstrap\n",
      "- L=0.1, ns=7 : computing accuracy on 4 bootstrap\n",
      "- L=0.5, ns=1 : computing accuracy on 4 bootstrap\n",
      "- L=0.5, ns=4 : computing accuracy on 4 bootstrap\n",
      "- L=0.5, ns=7 : computing accuracy on 4 bootstrap\n",
      "- L=0.9, ns=1 : computing accuracy on 4 bootstrap\n",
      "- L=0.9, ns=4 : computing accuracy on 4 bootstrap\n",
      "- L=0.9, ns=7 : computing accuracy on 4 bootstrap\n",
      "Target subject 6, training on [1, 2, 3, 4, 5, 7, 8, 9, 10, 11, 12]\n",
      "- L=0.1, ns=1 : computing accuracy on 4 bootstrap\n",
      "- L=0.1, ns=4 : computing accuracy on 4 bootstrap\n",
      "- L=0.1, ns=7 : computing accuracy on 4 bootstrap\n",
      "- L=0.5, ns=1 : computing accuracy on 4 bootstrap\n",
      "- L=0.5, ns=4 : computing accuracy on 4 bootstrap\n",
      "- L=0.5, ns=7 : computing accuracy on 4 bootstrap\n",
      "- L=0.9, ns=1 : computing accuracy on 4 bootstrap\n",
      "- L=0.9, ns=4 : computing accuracy on 4 bootstrap\n",
      "- L=0.9, ns=7 : computing accuracy on 4 bootstrap\n",
      "Target subject 7, training on [1, 2, 3, 4, 5, 6, 8, 9, 10, 11, 12]\n",
      "- L=0.1, ns=1 : computing accuracy on 4 bootstrap\n",
      "- L=0.1, ns=4 : computing accuracy on 4 bootstrap\n",
      "- L=0.1, ns=7 : computing accuracy on 4 bootstrap\n",
      "- L=0.5, ns=1 : computing accuracy on 4 bootstrap\n",
      "- L=0.5, ns=4 : computing accuracy on 4 bootstrap\n",
      "- L=0.5, ns=7 : computing accuracy on 4 bootstrap\n",
      "- L=0.9, ns=1 : computing accuracy on 4 bootstrap\n",
      "- L=0.9, ns=4 : computing accuracy on 4 bootstrap\n",
      "- L=0.9, ns=7 : computing accuracy on 4 bootstrap\n",
      "Target subject 8, training on [1, 2, 3, 4, 5, 6, 7, 9, 10, 11, 12]\n",
      "- L=0.1, ns=1 : computing accuracy on 4 bootstrap\n",
      "- L=0.1, ns=4 : computing accuracy on 4 bootstrap\n",
      "- L=0.1, ns=7 : computing accuracy on 4 bootstrap\n",
      "- L=0.5, ns=1 : computing accuracy on 4 bootstrap\n",
      "- L=0.5, ns=4 : computing accuracy on 4 bootstrap\n",
      "- L=0.5, ns=7 : computing accuracy on 4 bootstrap\n",
      "- L=0.9, ns=1 : computing accuracy on 4 bootstrap\n",
      "- L=0.9, ns=4 : computing accuracy on 4 bootstrap\n",
      "- L=0.9, ns=7 : computing accuracy on 4 bootstrap\n",
      "Target subject 9, training on [1, 2, 3, 4, 5, 6, 7, 8, 10, 11, 12]\n",
      "- L=0.1, ns=1 : computing accuracy on 4 bootstrap\n",
      "- L=0.1, ns=4 : computing accuracy on 4 bootstrap\n",
      "- L=0.1, ns=7 : computing accuracy on 4 bootstrap\n",
      "- L=0.5, ns=1 : computing accuracy on 4 bootstrap\n",
      "- L=0.5, ns=4 : computing accuracy on 4 bootstrap\n",
      "- L=0.5, ns=7 : computing accuracy on 4 bootstrap\n",
      "- L=0.9, ns=1 : computing accuracy on 4 bootstrap\n",
      "- L=0.9, ns=4 : computing accuracy on 4 bootstrap\n",
      "- L=0.9, ns=7 : computing accuracy on 4 bootstrap\n",
      "Target subject 10, training on [1, 2, 3, 4, 5, 6, 7, 8, 9, 11, 12]\n",
      "- L=0.1, ns=1 : computing accuracy on 4 bootstrap\n",
      "- L=0.1, ns=4 : computing accuracy on 4 bootstrap\n",
      "- L=0.1, ns=7 : computing accuracy on 4 bootstrap\n",
      "- L=0.5, ns=1 : computing accuracy on 4 bootstrap\n",
      "- L=0.5, ns=4 : computing accuracy on 4 bootstrap\n",
      "- L=0.5, ns=7 : computing accuracy on 4 bootstrap\n",
      "- L=0.9, ns=1 : computing accuracy on 4 bootstrap\n",
      "- L=0.9, ns=4 : computing accuracy on 4 bootstrap\n",
      "- L=0.9, ns=7 : computing accuracy on 4 bootstrap\n",
      "Target subject 11, training on [1, 2, 3, 4, 5, 6, 7, 8, 9, 10, 12]\n",
      "- L=0.1, ns=1 : computing accuracy on 4 bootstrap\n",
      "- L=0.1, ns=4 : computing accuracy on 4 bootstrap\n",
      "- L=0.1, ns=7 : computing accuracy on 4 bootstrap\n",
      "- L=0.5, ns=1 : computing accuracy on 4 bootstrap\n",
      "- L=0.5, ns=4 : computing accuracy on 4 bootstrap\n",
      "- L=0.5, ns=7 : computing accuracy on 4 bootstrap\n",
      "- L=0.9, ns=1 : computing accuracy on 4 bootstrap\n",
      "- L=0.9, ns=4 : computing accuracy on 4 bootstrap\n",
      "- L=0.9, ns=7 : computing accuracy on 4 bootstrap\n",
      "Target subject 12, training on [1, 2, 3, 4, 5, 6, 7, 8, 9, 10, 11]\n",
      "- L=0.1, ns=1 : computing accuracy on 4 bootstrap\n",
      "- L=0.1, ns=4 : computing accuracy on 4 bootstrap\n",
      "- L=0.1, ns=7 : computing accuracy on 4 bootstrap\n",
      "- L=0.5, ns=1 : computing accuracy on 4 bootstrap\n",
      "- L=0.5, ns=4 : computing accuracy on 4 bootstrap\n",
      "- L=0.5, ns=7 : computing accuracy on 4 bootstrap\n",
      "- L=0.9, ns=1 : computing accuracy on 4 bootstrap\n",
      "- L=0.9, ns=4 : computing accuracy on 4 bootstrap\n",
      "- L=0.9, ns=7 : computing accuracy on 4 bootstrap\n"
     ]
    }
   ],
   "source": [
    "#Classifieur MDWM seulement \n",
    "# sur 12 sujets\n",
    "n_boot = 4\n",
    "n_samples = range(1, 9, 3)  # Nombre de samples par class pour un subject \n",
    "lambdas = np.linspace(0.1, 0.9, 3) # 6 valeurs de Lambda\n",
    "subjects = dataset.subject_list[:12]\n",
    "n_classes = 4\n",
    "transfer_results = []\n",
    "\n",
    "for s in subjects:\n",
    "    signal_target, labels_target, metadata_target = paradigm.get_data(dataset = dataset, subjects= [s])\n",
    "    X = ExtendedSSVEPSignal().fit_transform(signal_target, labels_target)   #données Extented en 3D\n",
    "    domain_subjects = list(set(subjects) - set([s]))\n",
    "    print(\"Target subject {}, training on {}\".format(s, domain_subjects))\n",
    "    signal_domain, labels_domain, metadata_domain = paradigm.get_data(dataset=dataset, subjects=domain_subjects)\n",
    "    X_domain = ExtendedSSVEPSignal().fit_transform(signal_domain, labels_domain)   #données Extented en 3D\n",
    "    X_domain = Covariances(estimator='lwf').fit_transform(X_domain)\n",
    "    \n",
    "    for L in lambdas:\n",
    "        for ns in n_samples:\n",
    "            print (\"- L={}, ns={} : computing accuracy on {} bootstrap\".format(L, ns, n_boot))\n",
    "            Bootstrap = StratifiedShuffleSplit(n_splits=n_boot, train_size=ns*n_classes, random_state=42)  #faire des cross sur le target\n",
    "            for train_index, test_index in Bootstrap.split(X, labels_target):\n",
    "                X_train, X_test = X[train_index], X[test_index]\n",
    "                y_train, y_test = labels_target[train_index], labels_target[test_index] \n",
    "                mdwm = make_pipeline(Covariances(estimator='lwf'),\n",
    "                                    MDWM(metric='riemann', L=L, n_jobs=-1))\n",
    "                mdwm.fit(X_train, y_train, mdwm__X_domain=X_domain, mdwm__y_domain=labels_domain)\n",
    "                y_pred = mdwm.predict(X_test)\n",
    "                acc_mdwm = accuracy_score(y_test, y_pred)\n",
    "                transfer_results.append({'classifier':'MDWM', 'accuracy':acc_mdwm, 'samples per class':ns,\n",
    "                                        'subject':s, 'lambda':L, 'dataset':'SSVEPExo'})\n",
    "\n",
    "    \n",
    "    \n",
    "df_transfer = pd.DataFrame(transfer_results)"
   ]
  },
  {
   "cell_type": "code",
   "execution_count": 19,
   "metadata": {},
   "outputs": [
    {
     "data": {
      "text/plain": [
       "<seaborn.axisgrid.FacetGrid at 0x1e98d4796d8>"
      ]
     },
     "execution_count": 19,
     "metadata": {},
     "output_type": "execute_result"
    },
    {
     "data": {
      "text/plain": [
       "<Figure size 1080x504 with 0 Axes>"
      ]
     },
     "metadata": {},
     "output_type": "display_data"
    },
    {
     "data": {
      "image/png": "[encoded data removed]",
      "text/plain": [
       "<Figure size 1133.85x360 with 1 Axes>"
      ]
     },
     "metadata": {
      "needs_background": "light"
     },
     "output_type": "display_data"
    }
   ],
   "source": [
    "#Accuracy en fonction du nombre d'échantillons par classe\n",
    "plt.figure(figsize=(15,7))\n",
    "sns.catplot(data=df_transfer, x='samples per class',height=5,aspect=3 ,y='accuracy', hue='subject', kind='bar', palette='viridis')"
   ]
  },
  {
   "cell_type": "code",
   "execution_count": 6,
   "metadata": {},
   "outputs": [
    {
     "data": {
      "text/plain": [
       "<seaborn.axisgrid.FacetGrid at 0x1e98b881f98>"
      ]
     },
     "execution_count": 6,
     "metadata": {},
     "output_type": "execute_result"
    },
    {
     "data": {
      "image/png": "[encoded data removed]",
      "text/plain": [
       "<Figure size 460.175x360 with 1 Axes>"
      ]
     },
     "metadata": {
      "needs_background": "light"
     },
     "output_type": "display_data"
    }
   ],
   "source": [
    "#Accuracy en fonction de lambda\n",
    "sns.catplot(data=df_transfer, x='lambda', y='accuracy', hue='samples per class', kind='box', palette='Blues')"
   ]
  },
  {
   "cell_type": "code",
   "execution_count": 7,
   "metadata": {},
   "outputs": [
    {
     "name": "stdout",
     "output_type": "stream",
     "text": [
      "Target subject 5, training on [6]\n",
      "- L=0.1, ns=1 : computing accuracy on 4 bootstrap\n"
     ]
    },
    {
     "name": "stderr",
     "output_type": "stream",
     "text": [
      "C:\\Users\\PC\\Anaconda3\\lib\\site-packages\\sklearn\\linear_model\\logistic.py:432: FutureWarning: Default solver will be changed to 'lbfgs' in 0.22. Specify a solver to silence this warning.\n",
      "  FutureWarning)\n",
      "C:\\Users\\PC\\Anaconda3\\lib\\site-packages\\sklearn\\linear_model\\logistic.py:469: FutureWarning: Default multi_class will be changed to 'auto' in 0.22. Specify the multi_class option to silence this warning.\n",
      "  \"this warning.\", FutureWarning)\n",
      "C:\\Users\\PC\\Anaconda3\\lib\\site-packages\\sklearn\\linear_model\\logistic.py:432: FutureWarning: Default solver will be changed to 'lbfgs' in 0.22. Specify a solver to silence this warning.\n",
      "  FutureWarning)\n",
      "C:\\Users\\PC\\Anaconda3\\lib\\site-packages\\sklearn\\linear_model\\logistic.py:469: FutureWarning: Default multi_class will be changed to 'auto' in 0.22. Specify the multi_class option to silence this warning.\n",
      "  \"this warning.\", FutureWarning)\n",
      "C:\\Users\\PC\\Anaconda3\\lib\\site-packages\\sklearn\\linear_model\\logistic.py:432: FutureWarning: Default solver will be changed to 'lbfgs' in 0.22. Specify a solver to silence this warning.\n",
      "  FutureWarning)\n",
      "C:\\Users\\PC\\Anaconda3\\lib\\site-packages\\sklearn\\linear_model\\logistic.py:469: FutureWarning: Default multi_class will be changed to 'auto' in 0.22. Specify the multi_class option to silence this warning.\n",
      "  \"this warning.\", FutureWarning)\n",
      "C:\\Users\\PC\\Anaconda3\\lib\\site-packages\\sklearn\\linear_model\\logistic.py:432: FutureWarning: Default solver will be changed to 'lbfgs' in 0.22. Specify a solver to silence this warning.\n",
      "  FutureWarning)\n",
      "C:\\Users\\PC\\Anaconda3\\lib\\site-packages\\sklearn\\linear_model\\logistic.py:469: FutureWarning: Default multi_class will be changed to 'auto' in 0.22. Specify the multi_class option to silence this warning.\n",
      "  \"this warning.\", FutureWarning)\n"
     ]
    },
    {
     "name": "stdout",
     "output_type": "stream",
     "text": [
      "- L=0.5, ns=1 : computing accuracy on 4 bootstrap\n",
      "- L=0.9, ns=1 : computing accuracy on 4 bootstrap\n",
      "- L=0.1, ns=4 : computing accuracy on 4 bootstrap\n"
     ]
    },
    {
     "name": "stderr",
     "output_type": "stream",
     "text": [
      "C:\\Users\\PC\\Anaconda3\\lib\\site-packages\\sklearn\\linear_model\\logistic.py:432: FutureWarning: Default solver will be changed to 'lbfgs' in 0.22. Specify a solver to silence this warning.\n",
      "  FutureWarning)\n",
      "C:\\Users\\PC\\Anaconda3\\lib\\site-packages\\sklearn\\linear_model\\logistic.py:469: FutureWarning: Default multi_class will be changed to 'auto' in 0.22. Specify the multi_class option to silence this warning.\n",
      "  \"this warning.\", FutureWarning)\n",
      "C:\\Users\\PC\\Anaconda3\\lib\\site-packages\\sklearn\\linear_model\\logistic.py:432: FutureWarning: Default solver will be changed to 'lbfgs' in 0.22. Specify a solver to silence this warning.\n",
      "  FutureWarning)\n",
      "C:\\Users\\PC\\Anaconda3\\lib\\site-packages\\sklearn\\linear_model\\logistic.py:469: FutureWarning: Default multi_class will be changed to 'auto' in 0.22. Specify the multi_class option to silence this warning.\n",
      "  \"this warning.\", FutureWarning)\n",
      "C:\\Users\\PC\\Anaconda3\\lib\\site-packages\\sklearn\\linear_model\\logistic.py:432: FutureWarning: Default solver will be changed to 'lbfgs' in 0.22. Specify a solver to silence this warning.\n",
      "  FutureWarning)\n",
      "C:\\Users\\PC\\Anaconda3\\lib\\site-packages\\sklearn\\linear_model\\logistic.py:469: FutureWarning: Default multi_class will be changed to 'auto' in 0.22. Specify the multi_class option to silence this warning.\n",
      "  \"this warning.\", FutureWarning)\n",
      "C:\\Users\\PC\\Anaconda3\\lib\\site-packages\\sklearn\\linear_model\\logistic.py:432: FutureWarning: Default solver will be changed to 'lbfgs' in 0.22. Specify a solver to silence this warning.\n",
      "  FutureWarning)\n",
      "C:\\Users\\PC\\Anaconda3\\lib\\site-packages\\sklearn\\linear_model\\logistic.py:469: FutureWarning: Default multi_class will be changed to 'auto' in 0.22. Specify the multi_class option to silence this warning.\n",
      "  \"this warning.\", FutureWarning)\n"
     ]
    },
    {
     "name": "stdout",
     "output_type": "stream",
     "text": [
      "- L=0.5, ns=4 : computing accuracy on 4 bootstrap\n",
      "- L=0.9, ns=4 : computing accuracy on 4 bootstrap\n",
      "- L=0.1, ns=7 : computing accuracy on 4 bootstrap\n"
     ]
    },
    {
     "name": "stderr",
     "output_type": "stream",
     "text": [
      "C:\\Users\\PC\\Anaconda3\\lib\\site-packages\\sklearn\\linear_model\\logistic.py:432: FutureWarning: Default solver will be changed to 'lbfgs' in 0.22. Specify a solver to silence this warning.\n",
      "  FutureWarning)\n",
      "C:\\Users\\PC\\Anaconda3\\lib\\site-packages\\sklearn\\linear_model\\logistic.py:469: FutureWarning: Default multi_class will be changed to 'auto' in 0.22. Specify the multi_class option to silence this warning.\n",
      "  \"this warning.\", FutureWarning)\n",
      "C:\\Users\\PC\\Anaconda3\\lib\\site-packages\\sklearn\\linear_model\\logistic.py:432: FutureWarning: Default solver will be changed to 'lbfgs' in 0.22. Specify a solver to silence this warning.\n",
      "  FutureWarning)\n",
      "C:\\Users\\PC\\Anaconda3\\lib\\site-packages\\sklearn\\linear_model\\logistic.py:469: FutureWarning: Default multi_class will be changed to 'auto' in 0.22. Specify the multi_class option to silence this warning.\n",
      "  \"this warning.\", FutureWarning)\n",
      "C:\\Users\\PC\\Anaconda3\\lib\\site-packages\\sklearn\\linear_model\\logistic.py:432: FutureWarning: Default solver will be changed to 'lbfgs' in 0.22. Specify a solver to silence this warning.\n",
      "  FutureWarning)\n",
      "C:\\Users\\PC\\Anaconda3\\lib\\site-packages\\sklearn\\linear_model\\logistic.py:469: FutureWarning: Default multi_class will be changed to 'auto' in 0.22. Specify the multi_class option to silence this warning.\n",
      "  \"this warning.\", FutureWarning)\n",
      "C:\\Users\\PC\\Anaconda3\\lib\\site-packages\\sklearn\\linear_model\\logistic.py:432: FutureWarning: Default solver will be changed to 'lbfgs' in 0.22. Specify a solver to silence this warning.\n",
      "  FutureWarning)\n",
      "C:\\Users\\PC\\Anaconda3\\lib\\site-packages\\sklearn\\linear_model\\logistic.py:469: FutureWarning: Default multi_class will be changed to 'auto' in 0.22. Specify the multi_class option to silence this warning.\n",
      "  \"this warning.\", FutureWarning)\n"
     ]
    },
    {
     "name": "stdout",
     "output_type": "stream",
     "text": [
      "- L=0.5, ns=7 : computing accuracy on 4 bootstrap\n",
      "- L=0.9, ns=7 : computing accuracy on 4 bootstrap\n",
      "Target subject 6, training on [5]\n",
      "- L=0.1, ns=1 : computing accuracy on 4 bootstrap\n"
     ]
    },
    {
     "name": "stderr",
     "output_type": "stream",
     "text": [
      "C:\\Users\\PC\\Anaconda3\\lib\\site-packages\\sklearn\\linear_model\\logistic.py:432: FutureWarning: Default solver will be changed to 'lbfgs' in 0.22. Specify a solver to silence this warning.\n",
      "  FutureWarning)\n",
      "C:\\Users\\PC\\Anaconda3\\lib\\site-packages\\sklearn\\linear_model\\logistic.py:469: FutureWarning: Default multi_class will be changed to 'auto' in 0.22. Specify the multi_class option to silence this warning.\n",
      "  \"this warning.\", FutureWarning)\n",
      "C:\\Users\\PC\\Anaconda3\\lib\\site-packages\\sklearn\\linear_model\\logistic.py:432: FutureWarning: Default solver will be changed to 'lbfgs' in 0.22. Specify a solver to silence this warning.\n",
      "  FutureWarning)\n",
      "C:\\Users\\PC\\Anaconda3\\lib\\site-packages\\sklearn\\linear_model\\logistic.py:469: FutureWarning: Default multi_class will be changed to 'auto' in 0.22. Specify the multi_class option to silence this warning.\n",
      "  \"this warning.\", FutureWarning)\n",
      "C:\\Users\\PC\\Anaconda3\\lib\\site-packages\\sklearn\\linear_model\\logistic.py:432: FutureWarning: Default solver will be changed to 'lbfgs' in 0.22. Specify a solver to silence this warning.\n",
      "  FutureWarning)\n",
      "C:\\Users\\PC\\Anaconda3\\lib\\site-packages\\sklearn\\linear_model\\logistic.py:469: FutureWarning: Default multi_class will be changed to 'auto' in 0.22. Specify the multi_class option to silence this warning.\n",
      "  \"this warning.\", FutureWarning)\n",
      "C:\\Users\\PC\\Anaconda3\\lib\\site-packages\\sklearn\\linear_model\\logistic.py:432: FutureWarning: Default solver will be changed to 'lbfgs' in 0.22. Specify a solver to silence this warning.\n",
      "  FutureWarning)\n",
      "C:\\Users\\PC\\Anaconda3\\lib\\site-packages\\sklearn\\linear_model\\logistic.py:469: FutureWarning: Default multi_class will be changed to 'auto' in 0.22. Specify the multi_class option to silence this warning.\n",
      "  \"this warning.\", FutureWarning)\n"
     ]
    },
    {
     "name": "stdout",
     "output_type": "stream",
     "text": [
      "- L=0.5, ns=1 : computing accuracy on 4 bootstrap\n",
      "- L=0.9, ns=1 : computing accuracy on 4 bootstrap\n",
      "- L=0.1, ns=4 : computing accuracy on 4 bootstrap\n"
     ]
    },
    {
     "name": "stderr",
     "output_type": "stream",
     "text": [
      "C:\\Users\\PC\\Anaconda3\\lib\\site-packages\\sklearn\\linear_model\\logistic.py:432: FutureWarning: Default solver will be changed to 'lbfgs' in 0.22. Specify a solver to silence this warning.\n",
      "  FutureWarning)\n",
      "C:\\Users\\PC\\Anaconda3\\lib\\site-packages\\sklearn\\linear_model\\logistic.py:469: FutureWarning: Default multi_class will be changed to 'auto' in 0.22. Specify the multi_class option to silence this warning.\n",
      "  \"this warning.\", FutureWarning)\n",
      "C:\\Users\\PC\\Anaconda3\\lib\\site-packages\\sklearn\\linear_model\\logistic.py:432: FutureWarning: Default solver will be changed to 'lbfgs' in 0.22. Specify a solver to silence this warning.\n",
      "  FutureWarning)\n",
      "C:\\Users\\PC\\Anaconda3\\lib\\site-packages\\sklearn\\linear_model\\logistic.py:469: FutureWarning: Default multi_class will be changed to 'auto' in 0.22. Specify the multi_class option to silence this warning.\n",
      "  \"this warning.\", FutureWarning)\n",
      "C:\\Users\\PC\\Anaconda3\\lib\\site-packages\\sklearn\\linear_model\\logistic.py:432: FutureWarning: Default solver will be changed to 'lbfgs' in 0.22. Specify a solver to silence this warning.\n",
      "  FutureWarning)\n",
      "C:\\Users\\PC\\Anaconda3\\lib\\site-packages\\sklearn\\linear_model\\logistic.py:469: FutureWarning: Default multi_class will be changed to 'auto' in 0.22. Specify the multi_class option to silence this warning.\n",
      "  \"this warning.\", FutureWarning)\n",
      "C:\\Users\\PC\\Anaconda3\\lib\\site-packages\\sklearn\\linear_model\\logistic.py:432: FutureWarning: Default solver will be changed to 'lbfgs' in 0.22. Specify a solver to silence this warning.\n",
      "  FutureWarning)\n",
      "C:\\Users\\PC\\Anaconda3\\lib\\site-packages\\sklearn\\linear_model\\logistic.py:469: FutureWarning: Default multi_class will be changed to 'auto' in 0.22. Specify the multi_class option to silence this warning.\n",
      "  \"this warning.\", FutureWarning)\n"
     ]
    },
    {
     "name": "stdout",
     "output_type": "stream",
     "text": [
      "- L=0.5, ns=4 : computing accuracy on 4 bootstrap\n",
      "- L=0.9, ns=4 : computing accuracy on 4 bootstrap\n",
      "- L=0.1, ns=7 : computing accuracy on 4 bootstrap\n"
     ]
    },
    {
     "name": "stderr",
     "output_type": "stream",
     "text": [
      "C:\\Users\\PC\\Anaconda3\\lib\\site-packages\\sklearn\\linear_model\\logistic.py:432: FutureWarning: Default solver will be changed to 'lbfgs' in 0.22. Specify a solver to silence this warning.\n",
      "  FutureWarning)\n",
      "C:\\Users\\PC\\Anaconda3\\lib\\site-packages\\sklearn\\linear_model\\logistic.py:469: FutureWarning: Default multi_class will be changed to 'auto' in 0.22. Specify the multi_class option to silence this warning.\n",
      "  \"this warning.\", FutureWarning)\n",
      "C:\\Users\\PC\\Anaconda3\\lib\\site-packages\\sklearn\\linear_model\\logistic.py:432: FutureWarning: Default solver will be changed to 'lbfgs' in 0.22. Specify a solver to silence this warning.\n",
      "  FutureWarning)\n",
      "C:\\Users\\PC\\Anaconda3\\lib\\site-packages\\sklearn\\linear_model\\logistic.py:469: FutureWarning: Default multi_class will be changed to 'auto' in 0.22. Specify the multi_class option to silence this warning.\n",
      "  \"this warning.\", FutureWarning)\n",
      "C:\\Users\\PC\\Anaconda3\\lib\\site-packages\\sklearn\\linear_model\\logistic.py:432: FutureWarning: Default solver will be changed to 'lbfgs' in 0.22. Specify a solver to silence this warning.\n",
      "  FutureWarning)\n",
      "C:\\Users\\PC\\Anaconda3\\lib\\site-packages\\sklearn\\linear_model\\logistic.py:469: FutureWarning: Default multi_class will be changed to 'auto' in 0.22. Specify the multi_class option to silence this warning.\n",
      "  \"this warning.\", FutureWarning)\n",
      "C:\\Users\\PC\\Anaconda3\\lib\\site-packages\\sklearn\\linear_model\\logistic.py:432: FutureWarning: Default solver will be changed to 'lbfgs' in 0.22. Specify a solver to silence this warning.\n",
      "  FutureWarning)\n",
      "C:\\Users\\PC\\Anaconda3\\lib\\site-packages\\sklearn\\linear_model\\logistic.py:469: FutureWarning: Default multi_class will be changed to 'auto' in 0.22. Specify the multi_class option to silence this warning.\n",
      "  \"this warning.\", FutureWarning)\n"
     ]
    },
    {
     "name": "stdout",
     "output_type": "stream",
     "text": [
      "- L=0.5, ns=7 : computing accuracy on 4 bootstrap\n",
      "- L=0.9, ns=7 : computing accuracy on 4 bootstrap\n"
     ]
    }
   ],
   "source": [
    "# Comparaison avec TSLR et MDM\n",
    "# Sur deux sujets\n",
    "n_boot = 4\n",
    "n_samples = range(1, 9, 3)  # Nombre de samples par class pour un subject \n",
    "lambdas = np.linspace(0.1, 0.9, 3) # 6 valeurs de Lambda\n",
    "subjects = dataset.subject_list[4:6]\n",
    "n_classes = 4\n",
    "transfer_mdwm, transfer_baseline = [], []\n",
    "\n",
    "for s in subjects:\n",
    "    signal_target, labels_target, metadata_target = paradigm.get_data(dataset = dataset, subjects= [s])\n",
    "    X = ExtendedSSVEPSignal().fit_transform(signal_target, labels_target)   #données Extented en 3D\n",
    "    domain_subjects = list(set(subjects) - set([s]))\n",
    "    print(\"Target subject {}, training on {}\".format(s, domain_subjects))\n",
    "    signal_domain, labels_domain, metadata_domain = paradigm.get_data(dataset=dataset, subjects=domain_subjects)\n",
    "    X_domain = ExtendedSSVEPSignal().fit_transform(signal_domain, labels_domain)   #données Extented en 3D\n",
    "    X_domain = Covariances(estimator='lwf').fit_transform(X_domain)\n",
    "    \n",
    "    for ns in n_samples:\n",
    "        for L in lambdas:\n",
    "            print (\"- L={}, ns={} : computing accuracy on {} bootstrap\".format(L, ns, n_boot))\n",
    "            Bootstrap = StratifiedShuffleSplit(n_splits=n_boot, train_size=ns*n_classes, random_state=42)  #faire des cross sur le target\n",
    "            for train_index, test_index in Bootstrap.split(X, labels_target):\n",
    "                X_train, X_test = X[train_index], X[test_index]\n",
    "                y_train, y_test = labels_target[train_index], labels_target[test_index] \n",
    "                mdwm = make_pipeline(Covariances(estimator='lwf'),\n",
    "                                    MDWM(metric='riemann', L=L, n_jobs=-1))\n",
    "                mdwm.fit(X_train, y_train, mdwm__X_domain=X_domain, mdwm__y_domain=labels_domain)\n",
    "                y_pred_mdwm = mdwm.predict(X_test)\n",
    "                acc_mdwm = accuracy_score(y_test, y_pred_mdwm)\n",
    "                transfer_mdwm.append({'classifier':'MDWM', 'accuracy':acc_mdwm, 'samples per class':ns,\n",
    "                                        'subject':s, 'lambda':L, 'dataset':'SSVEPExo'})\n",
    "                \n",
    "                if L == lambdas[0]:\n",
    "                    # Evaluation seulement 1 fois, lambda n'a pas d'impact sur MDM et TSLR\n",
    "                    mdm = make_pipeline(Covariances(estimator='lwf'),\n",
    "                                        MDM(metric='riemann', n_jobs=-1))\n",
    "                    mdm.fit(X_train, y_train)\n",
    "                    y_pred_mdm = mdm.predict(X_test)\n",
    "                    acc_mdm = accuracy_score(y_test, y_pred_mdm)\n",
    "                    transfer_baseline.append({'classifier':'MDM', 'accuracy':acc_mdm, 'samples per class':ns,\n",
    "                                            'subject':s, 'dataset':'SSVEPExo'})\n",
    "                    ts = make_pipeline(Covariances(estimator='lwf'),\n",
    "                                        TSclassifier(metric='riemann', tsupdate=False))\n",
    "                    ts.fit(X_train, y_train)\n",
    "                    y_pred_ts = ts.predict(X_test)\n",
    "                    acc_ts = accuracy_score(y_test, y_pred_ts)\n",
    "                    transfer_baseline.append({'classifier':'TSLR', 'accuracy':acc_ts, 'samples per class':ns,\n",
    "                                            'subject':s, 'dataset':'SSVEPExo'})\n",
    "                    \n",
    "                    \n",
    "df_mdwm = pd.DataFrame(transfer_mdwm)\n",
    "df_baseline = pd.DataFrame(transfer_baseline)"
   ]
  },
  {
   "cell_type": "code",
   "execution_count": 8,
   "metadata": {},
   "outputs": [
    {
     "data": {
      "text/plain": [
       "<seaborn.axisgrid.FacetGrid at 0x1e98ba41dd8>"
      ]
     },
     "execution_count": 8,
     "metadata": {},
     "output_type": "execute_result"
    },
    {
     "data": {
      "image/png": "[encoded data removed]",
      "text/plain": [
       "<Figure size 802.225x360 with 2 Axes>"
      ]
     },
     "metadata": {
      "needs_background": "light"
     },
     "output_type": "display_data"
    }
   ],
   "source": [
    "#Comparaison entre classifieurs\n",
    "df_compare = pd.concat([df_baseline, df_mdwm[df_mdwm['lambda'] == 0.9]], sort=False)\n",
    "sns.catplot(data=df_compare, x='samples per class', y='accuracy',hue='classifier',\n",
    "            col='subject', kind='bar', palette='Oranges')"
   ]
  },
  {
   "cell_type": "code",
   "execution_count": 14,
   "metadata": {},
   "outputs": [
    {
     "data": {
      "text/plain": [
       "<seaborn.axisgrid.FacetGrid at 0x1e98d07c780>"
      ]
     },
     "execution_count": 14,
     "metadata": {},
     "output_type": "execute_result"
    },
    {
     "data": {
      "text/plain": [
       "<Figure size 1080x504 with 0 Axes>"
      ]
     },
     "metadata": {},
     "output_type": "display_data"
    },
    {
     "data": {
      "image/png": "[encoded data removed]",
      "text/plain": [
       "<Figure size 406.725x360 with 1 Axes>"
      ]
     },
     "metadata": {
      "needs_background": "light"
     },
     "output_type": "display_data"
    }
   ],
   "source": [
    "plt.figure(figsize=(15,7))\n",
    "sns.catplot(data=df_mdwm, x='samples per class', y='accuracy',\n",
    "            hue='subject', kind='bar', palette='viridis')"
   ]
  },
  {
   "cell_type": "code",
   "execution_count": 10,
   "metadata": {},
   "outputs": [
    {
     "data": {
      "text/plain": [
       "<seaborn.axisgrid.FacetGrid at 0x1e98b51d780>"
      ]
     },
     "execution_count": 10,
     "metadata": {},
     "output_type": "execute_result"
    },
    {
     "data": {
      "image/png": "[encoded data removed]",
      "text/plain": [
       "<Figure size 460.175x360 with 1 Axes>"
      ]
     },
     "metadata": {
      "needs_background": "light"
     },
     "output_type": "display_data"
    }
   ],
   "source": [
    "sns.catplot(data=df_mdwm, x='lambda', y='accuracy', hue='samples per class', kind='bar', palette='viridis')"
   ]
  }
 ],
 "metadata": {
  "kernelspec": {
   "display_name": "Python 3",
   "language": "python",
   "name": "python3"
  },
  "language_info": {
   "codemirror_mode": {
    "name": "ipython",
    "version": 3
   },
   "file_extension": ".py",
   "mimetype": "text/x-python",
   "name": "python",
   "nbconvert_exporter": "python",
   "pygments_lexer": "ipython3",
   "version": "3.6.10"
  }
 },
 "nbformat": 4,
 "nbformat_minor": 2
}
